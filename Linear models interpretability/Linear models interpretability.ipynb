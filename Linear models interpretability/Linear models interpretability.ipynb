{
 "cells": [
  {
   "cell_type": "markdown",
   "metadata": {},
   "source": [
    "# Linear models interpretability"
   ]
  },
  {
   "cell_type": "markdown",
   "metadata": {},
   "source": [
    "## Some context about ML models interpretability"
   ]
  },
  {
   "cell_type": "markdown",
   "metadata": {},
   "source": [
    "\n",
    "![alt text](interpretability.jpg )\n",
    "Figure 1. Explaining individual predictions to a human decision-maker. Source: Marco Tulio Ribeiro."
   ]
  },
  {
   "cell_type": "markdown",
   "metadata": {},
   "source": [
    "With the new European General Data Protection legislation ([GDPR](https://www.eugdpr.org/)) starting it's application from 25th May 2018, the GDPR mandates a “right to explanation” from machine learning models — meaning that those decissions based (or significantly affected) by such models should be possible to be interpreted by a human—.\n",
    "<br>\n",
    "Despite the fact that many machine learning models are black boxes, understanding the rationale behind the model's predictions would certainly help users decide when to trust or not to trust their predictions. An example is shown in Figure 1, in which a model predicts that a certain patient has the flu. The prediction is then explained by an \"explainer\" that highlights the symptoms that are most important to the model. With this information about the rationale behind the model, the doctor is now empowered to trust the model—or not.\n",
    "<br>\n",
    "\n",
    "Machine learning models interpretability is closely connected with the ability of users to understand the model. Typical criteria are:\n",
    "* a small number of input features (only the necessary ones), ideally a small number of them to make a simple visualization possible,\n",
    "* features fitting to user's expectation (e.g., based on a priori knowledge that can be formalized as a priori relevance),\n",
    "* a simple internal processing, e.g. by understandable rules instead of a complex processing inside an Artificial Neural Network.\n",
    "<br>\n",
    "<br>\n",
    "<br>\n"
   ]
  },
  {
   "cell_type": "markdown",
   "metadata": {},
   "source": [
    "## Linear models\n",
    "\n",
    "From [Wikipedia](https://en.wikipedia.org/wiki/Linear_model):\n",
    "<br>\n",
    "In statistics, the term linear model is used in different ways according to the context. The most common occurrence is in connection with regression models and the term is often taken as synonymous with linear regression model. However, the term is also used in time series analysis with a different meaning. In each case, the designation \"linear\" is used to identify a subclass of models for which substantial reduction in the complexity of the related statistical theory is possible."
   ]
  },
  {
   "cell_type": "markdown",
   "metadata": {},
   "source": [
    "### Focusing the reasoning in the Logistic Regression.\n",
    "\n",
    "https://www.elen.ucl.ac.be/Proceedings/esann/esannpdf/es2012-7.pdf\n",
    "\n",
    "[Interpretting model coefficients]\n",
    "(https://stats.stackexchange.com/questions/20996/how-to-interpret-coefficients-from-a-logistic-regression)\n",
    "<br>\n",
    "\n",
    "[Interpretting negative coefficients]\n",
    "(https://www.reddit.com/r/statistics/comments/4begf8/question_about_interpreting_negative_coefficients/)\n",
    "\n"
   ]
  },
  {
   "cell_type": "markdown",
   "metadata": {},
   "source": [
    "### Starting with an example"
   ]
  },
  {
   "cell_type": "code",
   "execution_count": 63,
   "metadata": {},
   "outputs": [],
   "source": [
    "# Required imports\n",
    "import numpy as np\n",
    "import pandas as pd\n",
    "import matplotlib.pyplot as plt\n",
    "%matplotlib inline\n",
    "\n",
    "import seaborn as sns\n",
    "sns.set()\n",
    "\n",
    "from sklearn import datasets, linear_model\n",
    "from sklearn.metrics import mean_squared_error, r2_score, accuracy_score\n",
    "from IPython.display import Image\n",
    "from IPython.display import display, HTML\n"
   ]
  },
  {
   "cell_type": "code",
   "execution_count": 53,
   "metadata": {},
   "outputs": [],
   "source": [
    "# Load the digits dataset\n",
    "iris = datasets.load_iris()\n",
    "X = iris.data[:, :2]  # we only take the first two features since we want to create a 2D plot.\n",
    "Y = iris.target"
   ]
  },
  {
   "cell_type": "code",
   "execution_count": 70,
   "metadata": {},
   "outputs": [
    {
     "name": "stdout",
     "output_type": "stream",
     "text": [
      "Training score:  0.806666666667\n"
     ]
    }
   ],
   "source": [
    "# Classic skelarn fit/predict usage for model training and testing\n",
    "logreg = linear_model.LogisticRegression(C=1e5)\n",
    "\n",
    "# we create an instance of LogisticRegression and fit the data.\n",
    "logreg.fit(X, Y)\n",
    "\n",
    "y_hat = logreg.predict(X)\n",
    "\n",
    "print(\"Training score: \",accuracy_score(Y, y_hat, normalize=True))"
   ]
  },
  {
   "cell_type": "code",
   "execution_count": 121,
   "metadata": {},
   "outputs": [
    {
     "name": "stdout",
     "output_type": "stream",
     "text": [
      "Logistic regression coefficients:\n"
     ]
    },
    {
     "data": {
      "text/html": [
       "<div>\n",
       "<style>\n",
       "    .dataframe thead tr:only-child th {\n",
       "        text-align: right;\n",
       "    }\n",
       "\n",
       "    .dataframe thead th {\n",
       "        text-align: left;\n",
       "    }\n",
       "\n",
       "    .dataframe tbody tr th {\n",
       "        vertical-align: top;\n",
       "    }\n",
       "</style>\n",
       "<table border=\"1\" class=\"dataframe\">\n",
       "  <thead>\n",
       "    <tr style=\"text-align: right;\">\n",
       "      <th></th>\n",
       "      <th>attribute</th>\n",
       "      <th>setosa</th>\n",
       "      <th>versicolor</th>\n",
       "      <th>virginica</th>\n",
       "    </tr>\n",
       "  </thead>\n",
       "  <tbody>\n",
       "    <tr>\n",
       "      <th>0</th>\n",
       "      <td>sepal length (cm)</td>\n",
       "      <td>1.509238</td>\n",
       "      <td>-0.252331</td>\n",
       "      <td>-2.466856</td>\n",
       "    </tr>\n",
       "    <tr>\n",
       "      <th>1</th>\n",
       "      <td>sepal width (cm)</td>\n",
       "      <td>4.907718</td>\n",
       "      <td>-2.779020</td>\n",
       "      <td>-6.636762</td>\n",
       "    </tr>\n",
       "    <tr>\n",
       "      <th>2</th>\n",
       "      <td>petal length (cm)</td>\n",
       "      <td>-7.784084</td>\n",
       "      <td>1.298870</td>\n",
       "      <td>9.357986</td>\n",
       "    </tr>\n",
       "    <tr>\n",
       "      <th>3</th>\n",
       "      <td>petal width (cm)</td>\n",
       "      <td>-3.806355</td>\n",
       "      <td>-2.703548</td>\n",
       "      <td>18.143379</td>\n",
       "    </tr>\n",
       "  </tbody>\n",
       "</table>\n",
       "</div>"
      ],
      "text/plain": [
       "           attribute    setosa  versicolor  virginica\n",
       "0  sepal length (cm)  1.509238   -0.252331  -2.466856\n",
       "1   sepal width (cm)  4.907718   -2.779020  -6.636762\n",
       "2  petal length (cm) -7.784084    1.298870   9.357986\n",
       "3   petal width (cm) -3.806355   -2.703548  18.143379"
      ]
     },
     "execution_count": 121,
     "metadata": {},
     "output_type": "execute_result"
    }
   ],
   "source": [
    "# Getting the coefficients of the model:\n",
    "coefficients = pd.concat([pd.DataFrame(iris.feature_names),pd.DataFrame(np.transpose(logreg2.coef_))], axis = 1)\n",
    "coefficients.columns=[\"attribute\", iris.target_names[0], iris.target_names[1], iris.target_names[2]]\n",
    "print(\"Logistic regression coefficients:\")\n",
    "coefficients"
   ]
  },
  {
   "cell_type": "markdown",
   "metadata": {},
   "source": [
    "Understanding what is the set of attributes that the model is using and what are the coefficients asociated to each of those attribute in the model might be a sufficient condition for interpreting the results."
   ]
  },
  {
   "cell_type": "markdown",
   "metadata": {},
   "source": [
    "### Interpreting the results. Extracting the decission boundary"
   ]
  },
  {
   "cell_type": "code",
   "execution_count": 78,
   "metadata": {},
   "outputs": [
    {
     "data": {
      "image/png": "[encoded data removed]",
      "text/plain": [
       "<matplotlib.figure.Figure at 0x1188f1710>"
      ]
     },
     "metadata": {},
     "output_type": "display_data"
    }
   ],
   "source": [
    "h = .02  # step size in the mesh\n",
    "\n",
    "# Plot the decision boundary. For that, we will assign a color to each\n",
    "# point in the mesh [x_min, x_max]x[y_min, y_max].\n",
    "\n",
    "x_min, x_max = X[:, 0].min() - .5, X[:, 0].max() + .5\n",
    "y_min, y_max = X[:, 1].min() - .5, X[:, 1].max() + .5\n",
    "xx, yy = np.meshgrid(np.arange(x_min, x_max, h), np.arange(y_min, y_max, h))\n",
    "Z = logreg.predict(np.c_[xx.ravel(), yy.ravel()])\n",
    "\n",
    "# Put the result into a color plot\n",
    "Z = Z.reshape(xx.shape)\n",
    "plt.figure(1, figsize=(10, 10))\n",
    "plt.pcolormesh(xx, yy, Z, cmap=plt.cm.Paired)\n",
    "\n",
    "# Plot also the training points\n",
    "plt.scatter(X[:, 0], X[:, 1], c=Y, edgecolors='k', cmap=plt.cm.Paired)\n",
    "plt.xlabel('Sepal length')\n",
    "plt.ylabel('Sepal width')\n",
    "\n",
    "plt.xlim(xx.min(), xx.max())\n",
    "plt.ylim(yy.min(), yy.max())\n",
    "plt.xticks(())\n",
    "plt.yticks(())\n",
    "\n",
    "plt.show()"
   ]
  },
  {
   "cell_type": "markdown",
   "metadata": {},
   "source": [
    "For a simple example like this one, the logistic model fullfills one of the basic requirements stated above, that refers to the posibility for the model parameters to be plotted into a simple plot."
   ]
  },
  {
   "cell_type": "markdown",
   "metadata": {},
   "source": [
    "## Final conclusions\n",
    "**In the end, machine learning models interpretability refers to the ability of a given human to understand why the model is behaving like it is doing. Having said that, clearly, model interpretability depends on the expertise of the human that need to explain how the model is taking a given decission, but it's also evident that certain models will be easier to interpret by an individual with no experience in the use of Machine Learning or advanced mathematical models**\n",
    "<br>\n",
    "\n",
    "**Linear models are interpretable from the point of view that they don't need to be treated as black boxes (just trying to infer the reasoning by comparing the output got for each input).**"
   ]
  },
  {
   "cell_type": "markdown",
   "metadata": {},
   "source": []
  }
 ],
 "metadata": {
  "anaconda-cloud": {},
  "kernelspec": {
   "display_name": "Python 3",
   "language": "python",
   "name": "python3"
  },
  "language_info": {
   "codemirror_mode": {
    "name": "ipython",
    "version": 3
   },
   "file_extension": ".py",
   "mimetype": "text/x-python",
   "name": "python",
   "nbconvert_exporter": "python",
   "pygments_lexer": "ipython3",
   "version": "3.5.1"
  }
 },
 "nbformat": 4,
 "nbformat_minor": 2
}
